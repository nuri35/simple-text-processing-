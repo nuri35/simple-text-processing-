{
  "nbformat": 4,
  "nbformat_minor": 0,
  "metadata": {
    "colab": {
      "name": "Untitled0.ipynb",
      "provenance": []
    },
    "kernelspec": {
      "name": "python3",
      "display_name": "Python 3"
    }
  },
  "cells": [
    {
      "cell_type": "code",
      "metadata": {
        "colab_type": "code",
        "id": "BndgcsVRQTct",
        "outputId": "7ec93b19-1b9e-4c8e-a7c9-6089b894ad53",
        "colab": {
          "base_uri": "https://localhost:8080/",
          "height": 456
        }
      },
      "source": [
        "from __future__ import absolute_import, division, print_function, unicode_literals\n",
        "try:\n",
        "  %tensorflow_version 2.x\n",
        "except Exception:\n",
        "  pass\n",
        "\n",
        "import tensorflow as tf\n",
        "import numpy as np\n",
        "import logging\n",
        "logger = tf.get_logger()\n",
        "logger.setLevel(logging.ERROR)\n",
        "centimeters    = np.array([5, 12,  10,  25, 30, 76,  50],  dtype=float)\n",
        "inches = np.array([1,  5, 4, 10, 12, 30, 20],  dtype=float)\n",
        "\n",
        "\n",
        "\n",
        "\n",
        "for i,c in enumerate(centimeters):\n",
        "  print(\"{} centimeters = {}to inches\".format(c, inches[i]))\n",
        "\n",
        "l0 = tf.keras.layers.Dense(units=1, input_shape=[1])\n",
        "model = tf.keras.Sequential([l0])\n",
        "model = tf.keras.Sequential([\n",
        "  tf.keras.layers.Dense(units=1, input_shape=[1])\n",
        "])\n",
        "\n",
        "model.compile(loss='mean_squared_error',\n",
        "              optimizer=tf.keras.optimizers.Adam(0.1))\n",
        "\n",
        "history = model.fit(centimeters, inches, epochs=20, verbose=False)\n",
        "print(\"Finished training the model\")\n",
        "\n",
        "import matplotlib.pyplot as plt\n",
        "plt.xlabel('Epoch Number')\n",
        "plt.ylabel(\"Loss Magnitude\")\n",
        "plt.plot(history.history['loss'])\n",
        "\n",
        "\n",
        "num = float(input(\"Enter in centimeter : \"))\n",
        "print(model.predict([num]))\n",
        "\n",
        "\n",
        "\n",
        "\n",
        "\n"
      ],
      "execution_count": 82,
      "outputs": [
        {
          "output_type": "stream",
          "text": [
            "5.0 centimeters = 1.0to inches\n",
            "12.0 centimeters = 5.0to inches\n",
            "10.0 centimeters = 4.0to inches\n",
            "25.0 centimeters = 10.0to inches\n",
            "30.0 centimeters = 12.0to inches\n",
            "76.0 centimeters = 30.0to inches\n",
            "50.0 centimeters = 20.0to inches\n",
            "Finished training the model\n",
            "Enter in centimeter : 93\n",
            "[[31.525343]]\n"
          ],
          "name": "stdout"
        },
        {
          "output_type": "display_data",
          "data": {
            "image/png": "[encoded data removed]",
            "text/plain": [
              "<Figure size 432x288 with 1 Axes>"
            ]
          },
          "metadata": {
            "tags": []
          }
        }
      ]
    }
  ]
}
